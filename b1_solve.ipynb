{
 "cells": [
  {
   "cell_type": "code",
   "execution_count": 2,
   "id": "b8ddda8f",
   "metadata": {},
   "outputs": [
    {
     "name": "stdout",
     "output_type": "stream",
     "text": [
      "Hello World!\n"
     ]
    }
   ],
   "source": [
    "# 1000 - Hello World\n",
    "print(\"Hello World!\")"
   ]
  },
  {
   "cell_type": "code",
   "execution_count": null,
   "id": "5a8afa86",
   "metadata": {},
   "outputs": [
    {
     "name": "stdout",
     "output_type": "stream",
     "text": [
      "X = 19"
     ]
    }
   ],
   "source": [
    "# 1001 - Extremely Basic\n",
    "a = int(input())\n",
    "b = int(input())\n",
    "x = a + b\n",
    "print(\"X =\",x)"
   ]
  },
  {
   "cell_type": "code",
   "execution_count": null,
   "id": "74fdb5a5",
   "metadata": {},
   "outputs": [],
   "source": [
    "def sum(a,b):\n",
    "    x = a+b\n",
    "    print(f\"X = {x}\")\n",
    "sum(10,9)"
   ]
  },
  {
   "cell_type": "code",
   "execution_count": null,
   "id": "ee318c4e",
   "metadata": {},
   "outputs": [
    {
     "name": "stdout",
     "output_type": "stream",
     "text": [
      "A=31819.3103\n"
     ]
    }
   ],
   "source": [
    "# 1002 - Area of Circle\n",
    "r = float(input())\n",
    "pi = 3.14159\n",
    "a = pi * r*r\n",
    "print(f\"A={a:.4f}\")"
   ]
  },
  {
   "cell_type": "code",
   "execution_count": 16,
   "id": "e2c71d13",
   "metadata": {},
   "outputs": [
    {
     "name": "stdout",
     "output_type": "stream",
     "text": [
      "SOMA = 40\n"
     ]
    }
   ],
   "source": [
    "# 1003 - Simple Sum\n",
    "a = int(input())\n",
    "b = int(input())\n",
    "soma = a + b\n",
    "print(f\"SOMA = {soma}\")"
   ]
  },
  {
   "cell_type": "code",
   "execution_count": 18,
   "id": "f63ef3e1",
   "metadata": {},
   "outputs": [
    {
     "name": "stdout",
     "output_type": "stream",
     "text": [
      "PROD = -300\n"
     ]
    }
   ],
   "source": [
    "# 1004 - Simple Product\n",
    "a = int(input())\n",
    "b = int(input())\n",
    "x = a * b\n",
    "print(f\"PROD = {x}\")"
   ]
  },
  {
   "cell_type": "code",
   "execution_count": 21,
   "id": "6dd2a586",
   "metadata": {},
   "outputs": [
    {
     "name": "stdout",
     "output_type": "stream",
     "text": [
      "MEDIA = 6.43182\n"
     ]
    }
   ],
   "source": [
    "# 1005 - Average 1\n",
    "a = float(input())\n",
    "b = float(input())\n",
    "avg = (a*3.5+b*7.5)/(3.5+7.5)\n",
    "print(f\"MEDIA = {avg:.5f}\")"
   ]
  },
  {
   "cell_type": "code",
   "execution_count": 22,
   "id": "870de794",
   "metadata": {},
   "outputs": [
    {
     "name": "stdout",
     "output_type": "stream",
     "text": [
      "MEDIA = 6.3\n"
     ]
    }
   ],
   "source": [
    "# 1006 - Average 2\n",
    "a = float(input())\n",
    "b = float(input())\n",
    "c = float(input())\n",
    "avg = (a*2 + b*3 + c*5)/(2 + 3 + 5)\n",
    "print(f\"MEDIA = {avg:.1f}\")"
   ]
  },
  {
   "cell_type": "code",
   "execution_count": 23,
   "id": "a5f26fad",
   "metadata": {},
   "outputs": [
    {
     "name": "stdout",
     "output_type": "stream",
     "text": [
      "DIFERENCA = -26\n"
     ]
    }
   ],
   "source": [
    "# 1007 - Difference\n",
    "a = int(input())\n",
    "b = int(input())\n",
    "c = int(input())\n",
    "d = int(input())\n",
    "\n",
    "diff = (a*b) - (c*d)\n",
    "print(f\"DIFERENCA = {diff}\")"
   ]
  },
  {
   "cell_type": "code",
   "execution_count": 25,
   "id": "ebbbeada",
   "metadata": {},
   "outputs": [
    {
     "name": "stdout",
     "output_type": "stream",
     "text": [
      "NUMBER = 25\n",
      "SALARY = U$ 550.00\n"
     ]
    }
   ],
   "source": [
    "# 1008 - Salary\n",
    "num = int(input())\n",
    "hrs = int(input())\n",
    "amount = float(input())\n",
    "salary = amount * hrs\n",
    "print(f\"NUMBER = {num}\" )\n",
    "print(f\"SALARY = U$ {salary:.2f}\")"
   ]
  },
  {
   "cell_type": "code",
   "execution_count": 4,
   "id": "05bb18f9",
   "metadata": {},
   "outputs": [
    {
     "name": "stdout",
     "output_type": "stream",
     "text": [
      "TOTAL = R$ 700.00\n"
     ]
    }
   ],
   "source": [
    "# 1009 - Salary with Bonus\n",
    "name = str(input())\n",
    "salary = float(input())\n",
    "sales_money = float(input())\n",
    "percentage_receive = (sales_money * 15)/100\n",
    "final_salary = salary + percentage_receive\n",
    "print(f\"TOTAL = R$ {final_salary:.2f}\")"
   ]
  },
  {
   "cell_type": "code",
   "execution_count": 5,
   "id": "788fad73",
   "metadata": {},
   "outputs": [
    {
     "name": "stdout",
     "output_type": "stream",
     "text": [
      "VALOR A PAGAR: R$ 15.50\n"
     ]
    }
   ],
   "source": [
    "# 1010 - Simple Calculate\n",
    "prod_1 = input()\n",
    "prod_2 = input()\n",
    "\n",
    "a1,b1,c1 = prod_1.split()\n",
    "a2,b2,c2 = prod_2.split()\n",
    "\n",
    "a1 = int(a1)\n",
    "a2 = int(a2)\n",
    "\n",
    "b1 = int(b1)\n",
    "b2 = int(b2)\n",
    "\n",
    "c1 = float(c1)\n",
    "c2 = float(c2)\n",
    "\n",
    "amount_to_be_paid = (b1*c1 + b2*c2)\n",
    "print(f\"VALOR A PAGAR: R$ {amount_to_be_paid:.2f}\")"
   ]
  },
  {
   "cell_type": "code",
   "execution_count": 6,
   "id": "0b423f96",
   "metadata": {},
   "outputs": [
    {
     "name": "stdout",
     "output_type": "stream",
     "text": [
      "VOLUME = 14797486501.627\n"
     ]
    }
   ],
   "source": [
    "# 1011 - Sphere\n",
    "r = int(input())\n",
    "pi = 3.14159\n",
    "volume = 4/3 * pi * r*r*r\n",
    "print(f\"VOLUME = {volume:.3f}\")"
   ]
  },
  {
   "cell_type": "code",
   "execution_count": null,
   "id": "77711b43",
   "metadata": {},
   "outputs": [
    {
     "name": "stdout",
     "output_type": "stream",
     "text": [
      "TRIANGULO: 7.500\n",
      "CIRCULO: 78.540\n",
      "TRAPEZIO: 17.500\n",
      "QUADRADO: 16.000\n",
      "RETANGULO: 12.000\n"
     ]
    }
   ],
   "source": [
    "# 1012 - Area\n",
    "\n",
    "values = input().split()\n",
    "a = float(values[0])\n",
    "b = float(values[1])\n",
    "c = float(values[2])\n",
    "\n",
    "pi = 3.14159\n",
    "area_of_triangle = 1/2 * a * c\n",
    "area_of_circle = pi * c*c\n",
    "area_of_trapezium = (a+b)/2 * c\n",
    "area_of_square = b*b\n",
    "area_of_rectangle = a*b\n",
    "\n",
    "print(f\"TRIANGULO: {area_of_triangle:.3f}\")\n",
    "print(f\"CIRCULO: {area_of_circle:.3f}\")\n",
    "print(f\"TRAPEZIO: {area_of_trapezium:.3f}\")\n",
    "print(f\"QUADRADO: {area_of_square:.3f}\")\n",
    "print(f\"RETANGULO: {area_of_rectangle:.3f}\")"
   ]
  },
  {
   "cell_type": "markdown",
   "id": "eaed8b2c",
   "metadata": {},
   "source": [
    "### Explanation for space seperated values-\n",
    "we're treating the input as a single line of space-separated values and split() breaks that line into a list of strings. So if you type:\n",
    "3.0 4.0 5.2\n",
    "then values becomes:\n",
    "['3.0', '4.0', '5.2']\n",
    "so the indexing comes"
   ]
  },
  {
   "cell_type": "code",
   "execution_count": 11,
   "id": "0d141af9",
   "metadata": {},
   "outputs": [
    {
     "name": "stdout",
     "output_type": "stream",
     "text": [
      "106 eh o maior\n"
     ]
    }
   ],
   "source": [
    "# 1013 - The Greatest\n",
    "values = input().split()\n",
    "a = int(values[0])\n",
    "b = int(values[1])\n",
    "c = int(values[2])\n",
    "# max between a and b\n",
    "ab = (a + b + abs(a-b)) // 2\n",
    "# max between ab and c\n",
    "greatest = (ab + c + abs(ab-c)) // 2\n",
    "print(f\"{greatest} eh o maior\")"
   ]
  },
  {
   "cell_type": "code",
   "execution_count": 13,
   "id": "1e051669",
   "metadata": {},
   "outputs": [
    {
     "name": "stdout",
     "output_type": "stream",
     "text": [
      "14.286 km/l\n"
     ]
    }
   ],
   "source": [
    "# 1014 - Consumption\n",
    "x = int(input())\n",
    "y = float(input())\n",
    "consumption = x/y\n",
    "print(f\"{consumption:.3f} km/l\")"
   ]
  },
  {
   "cell_type": "code",
   "execution_count": null,
   "id": "c6031258",
   "metadata": {},
   "outputs": [
    {
     "name": "stdout",
     "output_type": "stream",
     "text": [
      "10.0\n"
     ]
    }
   ],
   "source": [
    "# 1015 - Distance between 2 points\n",
    "val_1 = input().split()\n",
    "val_2 = input().split()\n",
    "x1 = float(val_1[0])\n",
    "y1 = float(val_1[1])\n",
    "x2 = float(val_2[0])\n",
    "y2 = float(val_2[1])\n",
    "\n",
    "distance = ((x2-x1)**2 + (y2-y1)**2)**1/2\n",
    " \n",
    "print(distance)\n"
   ]
  }
 ],
 "metadata": {
  "kernelspec": {
   "display_name": "Python 3",
   "language": "python",
   "name": "python3"
  },
  "language_info": {
   "codemirror_mode": {
    "name": "ipython",
    "version": 3
   },
   "file_extension": ".py",
   "mimetype": "text/x-python",
   "name": "python",
   "nbconvert_exporter": "python",
   "pygments_lexer": "ipython3",
   "version": "3.12.0"
  }
 },
 "nbformat": 4,
 "nbformat_minor": 5
}

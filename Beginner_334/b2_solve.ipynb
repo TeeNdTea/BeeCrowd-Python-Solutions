{
 "cells": [
  {
   "cell_type": "code",
   "execution_count": 1,
   "id": "c156b56b",
   "metadata": {},
   "outputs": [
    {
     "name": "stdout",
     "output_type": "stream",
     "text": [
      "Valores nao aceitos\n"
     ]
    }
   ],
   "source": [
    "# 1035 - Selection Test 1\n",
    "val = input().split()\n",
    "a = int(val[0])\n",
    "b = int(val[1])\n",
    "c = int(val[2])\n",
    "d = int(val[3])\n",
    "\n",
    "x = c + d\n",
    "y = a + b\n",
    "\n",
    "if a % 2 == 0 & c>=0 & d>=0:\n",
    "    if b > c & d > a:\n",
    "        print(\"Valores aceitos\")\n",
    "    if x > y:\n",
    "        print(\"Valores aceitos\")\n",
    "else:\n",
    "    print(\"Valores nao aceitos\")\n"
   ]
  }
 ],
 "metadata": {
  "kernelspec": {
   "display_name": "Python 3",
   "language": "python",
   "name": "python3"
  },
  "language_info": {
   "codemirror_mode": {
    "name": "ipython",
    "version": 3
   },
   "file_extension": ".py",
   "mimetype": "text/x-python",
   "name": "python",
   "nbconvert_exporter": "python",
   "pygments_lexer": "ipython3",
   "version": "3.12.0"
  }
 },
 "nbformat": 4,
 "nbformat_minor": 5
}

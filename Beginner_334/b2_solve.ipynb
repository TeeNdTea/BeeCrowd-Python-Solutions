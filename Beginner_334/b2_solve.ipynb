{
 "cells": [
  {
   "cell_type": "code",
   "execution_count": 2,
   "id": "c156b56b",
   "metadata": {},
   "outputs": [
    {
     "name": "stdout",
     "output_type": "stream",
     "text": [
      "Valores nao aceitos\n"
     ]
    }
   ],
   "source": [
    "# 1035 - Selection Test 1\n",
    "val = input().split()\n",
    "a = int(val[0])\n",
    "b = int(val[1])\n",
    "c = int(val[2])\n",
    "d = int(val[3])\n",
    "\n",
    "x = c + d\n",
    "y = a + b\n",
    "\n",
    "if (b > c) and (d > a) and (x > y) and (c > 0) and (d > 0) and (a % 2 == 0):\n",
    "    print(\"Valores aceitos\")\n",
    "else:\n",
    "    print(\"Valores nao aceitos\")\n"
   ]
  },
  {
   "cell_type": "code",
   "execution_count": 4,
   "id": "7e5e6077",
   "metadata": {},
   "outputs": [
    {
     "name": "stdout",
     "output_type": "stream",
     "text": [
      "Impossivel calcular\n"
     ]
    }
   ],
   "source": [
    "# 1036 - Bhaskara's Formula\n",
    "import math\n",
    "\n",
    "val = input().split()\n",
    "a = float(val[0])\n",
    "b = float(val[1])\n",
    "c = float(val[2])\n",
    "delta = b**2 - 4*a*c\n",
    "\n",
    "if a == 0 or delta < 0:\n",
    "    print('Impossivel calcular')\n",
    "else:\n",
    "    r1 = (-b + math.sqrt(delta)) / (2*a)\n",
    "    r2 = (-b - math.sqrt(delta)) / (2*a)\n",
    "    print(f\"R1 = {r1:.5f}\")\n",
    "    print(f\"R2 = {r2:.5f}\")"
   ]
  },
  {
   "cell_type": "code",
   "execution_count": null,
   "id": "7f3952b3",
   "metadata": {},
   "outputs": [],
   "source": [
    "# 1037 - Interval\n"
   ]
  }
 ],
 "metadata": {
  "kernelspec": {
   "display_name": "Python 3",
   "language": "python",
   "name": "python3"
  },
  "language_info": {
   "codemirror_mode": {
    "name": "ipython",
    "version": 3
   },
   "file_extension": ".py",
   "mimetype": "text/x-python",
   "name": "python",
   "nbconvert_exporter": "python",
   "pygments_lexer": "ipython3",
   "version": "3.12.0"
  }
 },
 "nbformat": 4,
 "nbformat_minor": 5
}

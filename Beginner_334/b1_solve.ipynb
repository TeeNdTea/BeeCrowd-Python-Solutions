{
 "cells": [
  {
   "cell_type": "code",
   "execution_count": 2,
   "id": "b8ddda8f",
   "metadata": {},
   "outputs": [
    {
     "name": "stdout",
     "output_type": "stream",
     "text": [
      "Hello World!\n"
     ]
    }
   ],
   "source": [
    "# 1000 - Hello World\n",
    "print(\"Hello World!\")"
   ]
  },
  {
   "cell_type": "code",
   "execution_count": null,
   "id": "5a8afa86",
   "metadata": {},
   "outputs": [
    {
     "name": "stdout",
     "output_type": "stream",
     "text": [
      "X = 19"
     ]
    }
   ],
   "source": [
    "# 1001 - Extremely Basic\n",
    "a = int(input())\n",
    "b = int(input())\n",
    "x = a + b\n",
    "print(\"X =\",x)"
   ]
  },
  {
   "cell_type": "code",
   "execution_count": null,
   "id": "74fdb5a5",
   "metadata": {},
   "outputs": [],
   "source": [
    "def sum(a,b):\n",
    "    x = a+b\n",
    "    print(f\"X = {x}\")\n",
    "sum(10,9)"
   ]
  },
  {
   "cell_type": "code",
   "execution_count": null,
   "id": "ee318c4e",
   "metadata": {},
   "outputs": [
    {
     "name": "stdout",
     "output_type": "stream",
     "text": [
      "A=31819.3103\n"
     ]
    }
   ],
   "source": [
    "# 1002 - Area of Circle\n",
    "r = float(input())\n",
    "pi = 3.14159\n",
    "a = pi * r*r\n",
    "print(f\"A={a:.4f}\")"
   ]
  },
  {
   "cell_type": "code",
   "execution_count": 16,
   "id": "e2c71d13",
   "metadata": {},
   "outputs": [
    {
     "name": "stdout",
     "output_type": "stream",
     "text": [
      "SOMA = 40\n"
     ]
    }
   ],
   "source": [
    "# 1003 - Simple Sum\n",
    "a = int(input())\n",
    "b = int(input())\n",
    "soma = a + b\n",
    "print(f\"SOMA = {soma}\")"
   ]
  },
  {
   "cell_type": "code",
   "execution_count": 18,
   "id": "f63ef3e1",
   "metadata": {},
   "outputs": [
    {
     "name": "stdout",
     "output_type": "stream",
     "text": [
      "PROD = -300\n"
     ]
    }
   ],
   "source": [
    "# 1004 - Simple Product\n",
    "a = int(input())\n",
    "b = int(input())\n",
    "x = a * b\n",
    "print(f\"PROD = {x}\")"
   ]
  },
  {
   "cell_type": "code",
   "execution_count": 21,
   "id": "6dd2a586",
   "metadata": {},
   "outputs": [
    {
     "name": "stdout",
     "output_type": "stream",
     "text": [
      "MEDIA = 6.43182\n"
     ]
    }
   ],
   "source": [
    "# 1005 - Average 1\n",
    "a = float(input())\n",
    "b = float(input())\n",
    "avg = (a*3.5+b*7.5)/(3.5+7.5)\n",
    "print(f\"MEDIA = {avg:.5f}\")"
   ]
  },
  {
   "cell_type": "code",
   "execution_count": 22,
   "id": "870de794",
   "metadata": {},
   "outputs": [
    {
     "name": "stdout",
     "output_type": "stream",
     "text": [
      "MEDIA = 6.3\n"
     ]
    }
   ],
   "source": [
    "# 1006 - Average 2\n",
    "a = float(input())\n",
    "b = float(input())\n",
    "c = float(input())\n",
    "avg = (a*2 + b*3 + c*5)/(2 + 3 + 5)\n",
    "print(f\"MEDIA = {avg:.1f}\")"
   ]
  },
  {
   "cell_type": "code",
   "execution_count": 23,
   "id": "a5f26fad",
   "metadata": {},
   "outputs": [
    {
     "name": "stdout",
     "output_type": "stream",
     "text": [
      "DIFERENCA = -26\n"
     ]
    }
   ],
   "source": [
    "# 1007 - Difference\n",
    "a = int(input())\n",
    "b = int(input())\n",
    "c = int(input())\n",
    "d = int(input())\n",
    "\n",
    "diff = (a*b) - (c*d)\n",
    "print(f\"DIFERENCA = {diff}\")"
   ]
  },
  {
   "cell_type": "code",
   "execution_count": 25,
   "id": "ebbbeada",
   "metadata": {},
   "outputs": [
    {
     "name": "stdout",
     "output_type": "stream",
     "text": [
      "NUMBER = 25\n",
      "SALARY = U$ 550.00\n"
     ]
    }
   ],
   "source": [
    "# 1008 - Salary\n",
    "num = int(input())\n",
    "hrs = int(input())\n",
    "amount = float(input())\n",
    "salary = amount * hrs\n",
    "print(f\"NUMBER = {num}\" )\n",
    "print(f\"SALARY = U$ {salary:.2f}\")"
   ]
  }
 ],
 "metadata": {
  "kernelspec": {
   "display_name": "Python 3",
   "language": "python",
   "name": "python3"
  },
  "language_info": {
   "codemirror_mode": {
    "name": "ipython",
    "version": 3
   },
   "file_extension": ".py",
   "mimetype": "text/x-python",
   "name": "python",
   "nbconvert_exporter": "python",
   "pygments_lexer": "ipython3",
   "version": "3.12.0"
  }
 },
 "nbformat": 4,
 "nbformat_minor": 5
}
